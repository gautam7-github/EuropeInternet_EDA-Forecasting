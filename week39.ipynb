{
 "cells": [
  {
   "cell_type": "code",
   "execution_count": 2,
   "metadata": {},
   "outputs": [],
   "source": [
    "import numpy as np\n",
    "import pandas as pd\n",
    "import matplotlib.pyplot as plt\n",
    "import seaborn as sns"
   ]
  },
  {
   "cell_type": "code",
   "execution_count": 3,
   "metadata": {},
   "outputs": [],
   "source": [
    "df = pd.read_excel(r\"week39.xlsx\",engine='openpyxl')"
   ]
  },
  {
   "cell_type": "code",
   "execution_count": 4,
   "metadata": {},
   "outputs": [
    {
     "data": {
      "text/html": [
       "<div>\n",
       "<style scoped>\n",
       "    .dataframe tbody tr th:only-of-type {\n",
       "        vertical-align: middle;\n",
       "    }\n",
       "\n",
       "    .dataframe tbody tr th {\n",
       "        vertical-align: top;\n",
       "    }\n",
       "\n",
       "    .dataframe thead th {\n",
       "        text-align: right;\n",
       "    }\n",
       "</style>\n",
       "<table border=\"1\" class=\"dataframe\">\n",
       "  <thead>\n",
       "    <tr style=\"text-align: right;\">\n",
       "      <th></th>\n",
       "      <th>Country</th>\n",
       "      <th>Country Name</th>\n",
       "      <th>quarter</th>\n",
       "      <th>average download speed</th>\n",
       "      <th>average upload speed</th>\n",
       "      <th>average latency</th>\n",
       "    </tr>\n",
       "  </thead>\n",
       "  <tbody>\n",
       "    <tr>\n",
       "      <th>0</th>\n",
       "      <td>AL</td>\n",
       "      <td>Shqipëria</td>\n",
       "      <td>2019-01-01</td>\n",
       "      <td>15.30</td>\n",
       "      <td>7.33</td>\n",
       "      <td>27.72</td>\n",
       "    </tr>\n",
       "    <tr>\n",
       "      <th>1</th>\n",
       "      <td>AT</td>\n",
       "      <td>Österreich</td>\n",
       "      <td>2019-01-01</td>\n",
       "      <td>34.15</td>\n",
       "      <td>10.89</td>\n",
       "      <td>30.95</td>\n",
       "    </tr>\n",
       "    <tr>\n",
       "      <th>2</th>\n",
       "      <td>BE</td>\n",
       "      <td>Belgique/België</td>\n",
       "      <td>2019-01-01</td>\n",
       "      <td>62.19</td>\n",
       "      <td>13.86</td>\n",
       "      <td>17.87</td>\n",
       "    </tr>\n",
       "    <tr>\n",
       "      <th>3</th>\n",
       "      <td>BG</td>\n",
       "      <td>Bulgaria</td>\n",
       "      <td>2019-01-01</td>\n",
       "      <td>40.68</td>\n",
       "      <td>30.56</td>\n",
       "      <td>12.43</td>\n",
       "    </tr>\n",
       "    <tr>\n",
       "      <th>4</th>\n",
       "      <td>CH</td>\n",
       "      <td>Schweiz/Suisse/Svizzera</td>\n",
       "      <td>2019-01-01</td>\n",
       "      <td>88.88</td>\n",
       "      <td>48.23</td>\n",
       "      <td>17.06</td>\n",
       "    </tr>\n",
       "  </tbody>\n",
       "</table>\n",
       "</div>"
      ],
      "text/plain": [
       "  Country             Country Name    quarter  average download speed  \\\n",
       "0      AL                Shqipëria 2019-01-01                   15.30   \n",
       "1      AT               Österreich 2019-01-01                   34.15   \n",
       "2      BE          Belgique/België 2019-01-01                   62.19   \n",
       "3      BG                 Bulgaria 2019-01-01                   40.68   \n",
       "4      CH  Schweiz/Suisse/Svizzera 2019-01-01                   88.88   \n",
       "\n",
       "   average upload speed  average latency  \n",
       "0                  7.33            27.72  \n",
       "1                 10.89            30.95  \n",
       "2                 13.86            17.87  \n",
       "3                 30.56            12.43  \n",
       "4                 48.23            17.06  "
      ]
     },
     "execution_count": 4,
     "metadata": {},
     "output_type": "execute_result"
    }
   ],
   "source": [
    "df.head(5)"
   ]
  },
  {
   "cell_type": "code",
   "execution_count": 5,
   "metadata": {},
   "outputs": [
    {
     "data": {
      "text/html": [
       "<div>\n",
       "<style scoped>\n",
       "    .dataframe tbody tr th:only-of-type {\n",
       "        vertical-align: middle;\n",
       "    }\n",
       "\n",
       "    .dataframe tbody tr th {\n",
       "        vertical-align: top;\n",
       "    }\n",
       "\n",
       "    .dataframe thead th {\n",
       "        text-align: right;\n",
       "    }\n",
       "</style>\n",
       "<table border=\"1\" class=\"dataframe\">\n",
       "  <thead>\n",
       "    <tr style=\"text-align: right;\">\n",
       "      <th></th>\n",
       "      <th>Country</th>\n",
       "      <th>Country Name</th>\n",
       "      <th>quarter</th>\n",
       "      <th>average download speed</th>\n",
       "      <th>average upload speed</th>\n",
       "      <th>average latency</th>\n",
       "    </tr>\n",
       "  </thead>\n",
       "  <tbody>\n",
       "    <tr>\n",
       "      <th>449</th>\n",
       "      <td>CY</td>\n",
       "      <td>Kýpros</td>\n",
       "      <td>2022-01-01</td>\n",
       "      <td>49.56</td>\n",
       "      <td>18.53</td>\n",
       "      <td>16.40</td>\n",
       "    </tr>\n",
       "    <tr>\n",
       "      <th>481</th>\n",
       "      <td>AL</td>\n",
       "      <td>Shqipëria</td>\n",
       "      <td>2022-04-01</td>\n",
       "      <td>43.61</td>\n",
       "      <td>20.73</td>\n",
       "      <td>11.70</td>\n",
       "    </tr>\n",
       "    <tr>\n",
       "      <th>26</th>\n",
       "      <td>NL</td>\n",
       "      <td>Nederland</td>\n",
       "      <td>2019-01-01</td>\n",
       "      <td>83.39</td>\n",
       "      <td>38.87</td>\n",
       "      <td>13.74</td>\n",
       "    </tr>\n",
       "    <tr>\n",
       "      <th>105</th>\n",
       "      <td>RS</td>\n",
       "      <td>Serbia</td>\n",
       "      <td>2019-07-01</td>\n",
       "      <td>39.71</td>\n",
       "      <td>10.16</td>\n",
       "      <td>17.67</td>\n",
       "    </tr>\n",
       "    <tr>\n",
       "      <th>493</th>\n",
       "      <td>ES</td>\n",
       "      <td>España</td>\n",
       "      <td>2022-04-01</td>\n",
       "      <td>176.19</td>\n",
       "      <td>153.58</td>\n",
       "      <td>17.91</td>\n",
       "    </tr>\n",
       "    <tr>\n",
       "      <th>198</th>\n",
       "      <td>FR</td>\n",
       "      <td>France</td>\n",
       "      <td>2020-04-01</td>\n",
       "      <td>95.65</td>\n",
       "      <td>77.71</td>\n",
       "      <td>27.33</td>\n",
       "    </tr>\n",
       "  </tbody>\n",
       "</table>\n",
       "</div>"
      ],
      "text/plain": [
       "    Country Country Name    quarter  average download speed  \\\n",
       "449      CY       Kýpros 2022-01-01                   49.56   \n",
       "481      AL    Shqipëria 2022-04-01                   43.61   \n",
       "26       NL    Nederland 2019-01-01                   83.39   \n",
       "105      RS       Serbia 2019-07-01                   39.71   \n",
       "493      ES       España 2022-04-01                  176.19   \n",
       "198      FR       France 2020-04-01                   95.65   \n",
       "\n",
       "     average upload speed  average latency  \n",
       "449                 18.53            16.40  \n",
       "481                 20.73            11.70  \n",
       "26                  38.87            13.74  \n",
       "105                 10.16            17.67  \n",
       "493                153.58            17.91  \n",
       "198                 77.71            27.33  "
      ]
     },
     "execution_count": 5,
     "metadata": {},
     "output_type": "execute_result"
    }
   ],
   "source": [
    "df.sample(6)"
   ]
  },
  {
   "cell_type": "code",
   "execution_count": 6,
   "metadata": {},
   "outputs": [
    {
     "data": {
      "text/plain": [
       "Schweiz/Suisse/Svizzera    False\n",
       "Eesti                      False\n",
       "Bulgaria                   False\n",
       "Liechtenstein              False\n",
       "Shqipëria                  False\n",
       "United Kingdom             False\n",
       "Česko                      False\n",
       "Sverige                    False\n",
       "Danmark                    False\n",
       "România                    False\n",
       "Slovensko                  False\n",
       "Éire/Ireland               False\n",
       "Luxembourg                 False\n",
       "Polska                     False\n",
       "Crna Gora                  False\n",
       "Deutschland                False\n",
       "Österreich                 False\n",
       "España                     False\n",
       "Elláda                     False\n",
       "Suomi/Finland              False\n",
       "Malta                      False\n",
       "Latvija                    False\n",
       "Lietuva                    False\n",
       "Ísland                     False\n",
       "Slovenija                  False\n",
       "Portugal                   False\n",
       "Norge                      False\n",
       "Magyarország               False\n",
       "Hrvatska                   False\n",
       "France                     False\n",
       "Belgique/België            False\n",
       "Türkiye                    False\n",
       "Severna Makedonija         False\n",
       "Nederland                  False\n",
       "Serbia                     False\n",
       "Italia                     False\n",
       "Kýpros                     False\n",
       "Moldova                     True\n",
       "Bosnia and Herzegovina      True\n",
       "Ukraine                     True\n",
       "Kosovo                      True\n",
       "Name: Country Name, dtype: bool"
      ]
     },
     "execution_count": 6,
     "metadata": {},
     "output_type": "execute_result"
    }
   ],
   "source": [
    "df['Country Name'].value_counts() < 14"
   ]
  },
  {
   "cell_type": "code",
   "execution_count": 7,
   "metadata": {},
   "outputs": [],
   "source": [
    "newDf = df.loc[~df['Country Name'].isin(['Kosovo','Ukraine','Moldova', 'Bosnia and Herzegovina'])]"
   ]
  },
  {
   "cell_type": "code",
   "execution_count": 8,
   "metadata": {},
   "outputs": [
    {
     "data": {
      "text/plain": [
       "Schweiz/Suisse/Svizzera    14\n",
       "Bulgaria                   14\n",
       "Shqipëria                  14\n",
       "United Kingdom             14\n",
       "Česko                      14\n",
       "Sverige                    14\n",
       "Danmark                    14\n",
       "România                    14\n",
       "Slovensko                  14\n",
       "Éire/Ireland               14\n",
       "Luxembourg                 14\n",
       "Polska                     14\n",
       "Crna Gora                  14\n",
       "Deutschland                14\n",
       "Österreich                 14\n",
       "España                     14\n",
       "Elláda                     14\n",
       "Liechtenstein              14\n",
       "Suomi/Finland              14\n",
       "Eesti                      14\n",
       "Malta                      14\n",
       "Ísland                     14\n",
       "Slovenija                  14\n",
       "Portugal                   14\n",
       "Norge                      14\n",
       "Magyarország               14\n",
       "Hrvatska                   14\n",
       "France                     14\n",
       "Latvija                    14\n",
       "Türkiye                    14\n",
       "Severna Makedonija         14\n",
       "Nederland                  14\n",
       "Serbia                     14\n",
       "Italia                     14\n",
       "Kýpros                     14\n",
       "Lietuva                    14\n",
       "Belgique/België            14\n",
       "Name: Country Name, dtype: int64"
      ]
     },
     "execution_count": 8,
     "metadata": {},
     "output_type": "execute_result"
    }
   ],
   "source": [
    "newDf['Country Name'].value_counts()"
   ]
  },
  {
   "cell_type": "code",
   "execution_count": 58,
   "metadata": {},
   "outputs": [],
   "source": [
    "cleanDf = newDf.drop(\"Country\",axis=1).sort_values([\"Country Name\",\"quarter\"]).set_index([\"Country Name\",\"quarter\"])"
   ]
  },
  {
   "cell_type": "code",
   "execution_count": 59,
   "metadata": {},
   "outputs": [
    {
     "data": {
      "text/html": [
       "<div>\n",
       "<style scoped>\n",
       "    .dataframe tbody tr th:only-of-type {\n",
       "        vertical-align: middle;\n",
       "    }\n",
       "\n",
       "    .dataframe tbody tr th {\n",
       "        vertical-align: top;\n",
       "    }\n",
       "\n",
       "    .dataframe thead th {\n",
       "        text-align: right;\n",
       "    }\n",
       "</style>\n",
       "<table border=\"1\" class=\"dataframe\">\n",
       "  <thead>\n",
       "    <tr style=\"text-align: right;\">\n",
       "      <th></th>\n",
       "      <th></th>\n",
       "      <th>average download speed</th>\n",
       "      <th>average upload speed</th>\n",
       "      <th>average latency</th>\n",
       "    </tr>\n",
       "    <tr>\n",
       "      <th>Country Name</th>\n",
       "      <th>quarter</th>\n",
       "      <th></th>\n",
       "      <th></th>\n",
       "      <th></th>\n",
       "    </tr>\n",
       "  </thead>\n",
       "  <tbody>\n",
       "    <tr>\n",
       "      <th rowspan=\"9\" valign=\"top\">Belgique/België</th>\n",
       "      <th>2019-01-01</th>\n",
       "      <td>62.19</td>\n",
       "      <td>13.86</td>\n",
       "      <td>17.87</td>\n",
       "    </tr>\n",
       "    <tr>\n",
       "      <th>2019-04-01</th>\n",
       "      <td>64.68</td>\n",
       "      <td>13.90</td>\n",
       "      <td>17.93</td>\n",
       "    </tr>\n",
       "    <tr>\n",
       "      <th>2019-07-01</th>\n",
       "      <td>68.24</td>\n",
       "      <td>14.52</td>\n",
       "      <td>16.84</td>\n",
       "    </tr>\n",
       "    <tr>\n",
       "      <th>2019-10-01</th>\n",
       "      <td>78.54</td>\n",
       "      <td>15.45</td>\n",
       "      <td>15.20</td>\n",
       "    </tr>\n",
       "    <tr>\n",
       "      <th>2020-01-01</th>\n",
       "      <td>76.78</td>\n",
       "      <td>14.89</td>\n",
       "      <td>15.23</td>\n",
       "    </tr>\n",
       "    <tr>\n",
       "      <th>2020-04-01</th>\n",
       "      <td>81.85</td>\n",
       "      <td>16.55</td>\n",
       "      <td>15.02</td>\n",
       "    </tr>\n",
       "    <tr>\n",
       "      <th>2020-07-01</th>\n",
       "      <td>83.71</td>\n",
       "      <td>16.73</td>\n",
       "      <td>15.36</td>\n",
       "    </tr>\n",
       "    <tr>\n",
       "      <th>2020-10-01</th>\n",
       "      <td>90.46</td>\n",
       "      <td>16.97</td>\n",
       "      <td>14.48</td>\n",
       "    </tr>\n",
       "    <tr>\n",
       "      <th>2021-01-01</th>\n",
       "      <td>95.76</td>\n",
       "      <td>17.41</td>\n",
       "      <td>14.11</td>\n",
       "    </tr>\n",
       "  </tbody>\n",
       "</table>\n",
       "</div>"
      ],
      "text/plain": [
       "                            average download speed  average upload speed  \\\n",
       "Country Name    quarter                                                    \n",
       "Belgique/België 2019-01-01                   62.19                 13.86   \n",
       "                2019-04-01                   64.68                 13.90   \n",
       "                2019-07-01                   68.24                 14.52   \n",
       "                2019-10-01                   78.54                 15.45   \n",
       "                2020-01-01                   76.78                 14.89   \n",
       "                2020-04-01                   81.85                 16.55   \n",
       "                2020-07-01                   83.71                 16.73   \n",
       "                2020-10-01                   90.46                 16.97   \n",
       "                2021-01-01                   95.76                 17.41   \n",
       "\n",
       "                            average latency  \n",
       "Country Name    quarter                      \n",
       "Belgique/België 2019-01-01            17.87  \n",
       "                2019-04-01            17.93  \n",
       "                2019-07-01            16.84  \n",
       "                2019-10-01            15.20  \n",
       "                2020-01-01            15.23  \n",
       "                2020-04-01            15.02  \n",
       "                2020-07-01            15.36  \n",
       "                2020-10-01            14.48  \n",
       "                2021-01-01            14.11  "
      ]
     },
     "execution_count": 59,
     "metadata": {},
     "output_type": "execute_result"
    }
   ],
   "source": [
    "cleanDf.head(9)"
   ]
  },
  {
   "cell_type": "code",
   "execution_count": 70,
   "metadata": {},
   "outputs": [
    {
     "data": {
      "text/plain": [
       "DatetimeIndex(['2019-01-01', '2019-04-01', '2019-07-01', '2019-10-01',\n",
       "               '2020-01-01', '2020-04-01', '2020-07-01', '2020-10-01',\n",
       "               '2021-01-01', '2021-04-01', '2021-07-01', '2021-10-01',\n",
       "               '2022-01-01', '2022-04-01'],\n",
       "              dtype='datetime64[ns]', name='quarter', freq=None)"
      ]
     },
     "execution_count": 70,
     "metadata": {},
     "output_type": "execute_result"
    }
   ],
   "source": [
    "cleanDf.loc[\"France\"].index"
   ]
  },
  {
   "cell_type": "code",
   "execution_count": 64,
   "metadata": {},
   "outputs": [],
   "source": [
    "franceData = cleanDf.loc[\"France\"]"
   ]
  },
  {
   "cell_type": "code",
   "execution_count": 94,
   "metadata": {},
   "outputs": [],
   "source": [
    "train = franceData[franceData.index <= pd.to_datetime(\"2021-07-01\", format='%Y-%m-%d')]\n",
    "test = franceData[franceData.index >= pd.to_datetime(\"2021-10-01\", format='%Y-%m-%d')]"
   ]
  },
  {
   "cell_type": "code",
   "execution_count": 95,
   "metadata": {},
   "outputs": [
    {
     "data": {
      "text/html": [
       "<div>\n",
       "<style scoped>\n",
       "    .dataframe tbody tr th:only-of-type {\n",
       "        vertical-align: middle;\n",
       "    }\n",
       "\n",
       "    .dataframe tbody tr th {\n",
       "        vertical-align: top;\n",
       "    }\n",
       "\n",
       "    .dataframe thead th {\n",
       "        text-align: right;\n",
       "    }\n",
       "</style>\n",
       "<table border=\"1\" class=\"dataframe\">\n",
       "  <thead>\n",
       "    <tr style=\"text-align: right;\">\n",
       "      <th></th>\n",
       "      <th>average download speed</th>\n",
       "      <th>average upload speed</th>\n",
       "      <th>average latency</th>\n",
       "    </tr>\n",
       "    <tr>\n",
       "      <th>quarter</th>\n",
       "      <th></th>\n",
       "      <th></th>\n",
       "      <th></th>\n",
       "    </tr>\n",
       "  </thead>\n",
       "  <tbody>\n",
       "    <tr>\n",
       "      <th>2019-01-01</th>\n",
       "      <td>67.98</td>\n",
       "      <td>45.31</td>\n",
       "      <td>39.30</td>\n",
       "    </tr>\n",
       "    <tr>\n",
       "      <th>2019-04-01</th>\n",
       "      <td>68.00</td>\n",
       "      <td>47.82</td>\n",
       "      <td>40.76</td>\n",
       "    </tr>\n",
       "    <tr>\n",
       "      <th>2019-07-01</th>\n",
       "      <td>72.22</td>\n",
       "      <td>53.89</td>\n",
       "      <td>40.08</td>\n",
       "    </tr>\n",
       "    <tr>\n",
       "      <th>2019-10-01</th>\n",
       "      <td>85.77</td>\n",
       "      <td>69.58</td>\n",
       "      <td>29.38</td>\n",
       "    </tr>\n",
       "    <tr>\n",
       "      <th>2020-01-01</th>\n",
       "      <td>91.30</td>\n",
       "      <td>74.30</td>\n",
       "      <td>27.28</td>\n",
       "    </tr>\n",
       "    <tr>\n",
       "      <th>2020-04-01</th>\n",
       "      <td>95.65</td>\n",
       "      <td>77.71</td>\n",
       "      <td>27.33</td>\n",
       "    </tr>\n",
       "    <tr>\n",
       "      <th>2020-07-01</th>\n",
       "      <td>109.87</td>\n",
       "      <td>88.20</td>\n",
       "      <td>26.79</td>\n",
       "    </tr>\n",
       "    <tr>\n",
       "      <th>2020-10-01</th>\n",
       "      <td>130.37</td>\n",
       "      <td>105.18</td>\n",
       "      <td>22.27</td>\n",
       "    </tr>\n",
       "    <tr>\n",
       "      <th>2021-01-01</th>\n",
       "      <td>148.08</td>\n",
       "      <td>116.79</td>\n",
       "      <td>20.67</td>\n",
       "    </tr>\n",
       "    <tr>\n",
       "      <th>2021-04-01</th>\n",
       "      <td>162.05</td>\n",
       "      <td>121.34</td>\n",
       "      <td>21.63</td>\n",
       "    </tr>\n",
       "    <tr>\n",
       "      <th>2021-07-01</th>\n",
       "      <td>156.03</td>\n",
       "      <td>115.27</td>\n",
       "      <td>24.49</td>\n",
       "    </tr>\n",
       "  </tbody>\n",
       "</table>\n",
       "</div>"
      ],
      "text/plain": [
       "            average download speed  average upload speed  average latency\n",
       "quarter                                                                  \n",
       "2019-01-01                   67.98                 45.31            39.30\n",
       "2019-04-01                   68.00                 47.82            40.76\n",
       "2019-07-01                   72.22                 53.89            40.08\n",
       "2019-10-01                   85.77                 69.58            29.38\n",
       "2020-01-01                   91.30                 74.30            27.28\n",
       "2020-04-01                   95.65                 77.71            27.33\n",
       "2020-07-01                  109.87                 88.20            26.79\n",
       "2020-10-01                  130.37                105.18            22.27\n",
       "2021-01-01                  148.08                116.79            20.67\n",
       "2021-04-01                  162.05                121.34            21.63\n",
       "2021-07-01                  156.03                115.27            24.49"
      ]
     },
     "execution_count": 95,
     "metadata": {},
     "output_type": "execute_result"
    }
   ],
   "source": [
    "train"
   ]
  },
  {
   "cell_type": "code",
   "execution_count": 96,
   "metadata": {},
   "outputs": [
    {
     "data": {
      "text/html": [
       "<div>\n",
       "<style scoped>\n",
       "    .dataframe tbody tr th:only-of-type {\n",
       "        vertical-align: middle;\n",
       "    }\n",
       "\n",
       "    .dataframe tbody tr th {\n",
       "        vertical-align: top;\n",
       "    }\n",
       "\n",
       "    .dataframe thead th {\n",
       "        text-align: right;\n",
       "    }\n",
       "</style>\n",
       "<table border=\"1\" class=\"dataframe\">\n",
       "  <thead>\n",
       "    <tr style=\"text-align: right;\">\n",
       "      <th></th>\n",
       "      <th>average download speed</th>\n",
       "      <th>average upload speed</th>\n",
       "      <th>average latency</th>\n",
       "    </tr>\n",
       "    <tr>\n",
       "      <th>quarter</th>\n",
       "      <th></th>\n",
       "      <th></th>\n",
       "      <th></th>\n",
       "    </tr>\n",
       "  </thead>\n",
       "  <tbody>\n",
       "    <tr>\n",
       "      <th>2021-10-01</th>\n",
       "      <td>178.66</td>\n",
       "      <td>131.85</td>\n",
       "      <td>22.15</td>\n",
       "    </tr>\n",
       "    <tr>\n",
       "      <th>2022-01-01</th>\n",
       "      <td>191.96</td>\n",
       "      <td>147.43</td>\n",
       "      <td>19.65</td>\n",
       "    </tr>\n",
       "    <tr>\n",
       "      <th>2022-04-01</th>\n",
       "      <td>201.49</td>\n",
       "      <td>154.97</td>\n",
       "      <td>19.67</td>\n",
       "    </tr>\n",
       "  </tbody>\n",
       "</table>\n",
       "</div>"
      ],
      "text/plain": [
       "            average download speed  average upload speed  average latency\n",
       "quarter                                                                  \n",
       "2021-10-01                  178.66                131.85            22.15\n",
       "2022-01-01                  191.96                147.43            19.65\n",
       "2022-04-01                  201.49                154.97            19.67"
      ]
     },
     "execution_count": 96,
     "metadata": {},
     "output_type": "execute_result"
    }
   ],
   "source": [
    "test"
   ]
  },
  {
   "cell_type": "code",
   "execution_count": 97,
   "metadata": {},
   "outputs": [
    {
     "data": {
      "image/png": "[encoded data removed]",
      "text/plain": [
       "<Figure size 432x288 with 1 Axes>"
      ]
     },
     "metadata": {
      "needs_background": "light"
     },
     "output_type": "display_data"
    }
   ],
   "source": [
    "plt.plot(train, color = \"black\")\n",
    "plt.plot(test, color = \"red\")\n",
    "plt.ylabel('Metrics')\n",
    "plt.xlabel('Date')\n",
    "plt.xticks(rotation=45)\n",
    "plt.show()"
   ]
  },
  {
   "cell_type": "code",
   "execution_count": 98,
   "metadata": {},
   "outputs": [],
   "source": [
    "from statsmodels.tsa.statespace.sarimax import SARIMAX "
   ]
  },
  {
   "cell_type": "code",
   "execution_count": 102,
   "metadata": {},
   "outputs": [],
   "source": [
    "y = train['average latency']"
   ]
  },
  {
   "cell_type": "code",
   "execution_count": 103,
   "metadata": {},
   "outputs": [
    {
     "name": "stderr",
     "output_type": "stream",
     "text": [
      "c:\\Users\\91978\\AppData\\Local\\Programs\\Python\\Python38\\lib\\site-packages\\statsmodels\\tsa\\base\\tsa_model.py:524: ValueWarning: No frequency information was provided, so inferred frequency QS-OCT will be used.\n",
      "  warnings.warn('No frequency information was'\n",
      "c:\\Users\\91978\\AppData\\Local\\Programs\\Python\\Python38\\lib\\site-packages\\statsmodels\\tsa\\base\\tsa_model.py:524: ValueWarning: No frequency information was provided, so inferred frequency QS-OCT will be used.\n",
      "  warnings.warn('No frequency information was'\n",
      "c:\\Users\\91978\\AppData\\Local\\Programs\\Python\\Python38\\lib\\site-packages\\statsmodels\\tsa\\statespace\\sarimax.py:866: UserWarning: Too few observations to estimate starting parameters for ARMA and trend. All parameters except for variances will be set to zeros.\n",
      "  warn('Too few observations to estimate starting parameters%s.'\n",
      "c:\\Users\\91978\\AppData\\Local\\Programs\\Python\\Python38\\lib\\site-packages\\statsmodels\\tsa\\statespace\\sarimax.py:866: UserWarning: Too few observations to estimate starting parameters for seasonal ARMA. All parameters except for variances will be set to zeros.\n",
      "  warn('Too few observations to estimate starting parameters%s.'\n"
     ]
    }
   ],
   "source": [
    "SARIMAXmodel = SARIMAX(y, order = (5, 4, 2), seasonal_order=(2,2,2,12))\n",
    "SARIMAXmodel = SARIMAXmodel.fit()"
   ]
  },
  {
   "cell_type": "code",
   "execution_count": 105,
   "metadata": {},
   "outputs": [
    {
     "data": {
      "text/plain": [
       "<matplotlib.legend.Legend at 0x2d8ba682250>"
      ]
     },
     "execution_count": 105,
     "metadata": {},
     "output_type": "execute_result"
    },
    {
     "data": {
      "image/png": "[encoded data removed]",
      "text/plain": [
       "<Figure size 432x288 with 1 Axes>"
      ]
     },
     "metadata": {
      "needs_background": "light"
     },
     "output_type": "display_data"
    }
   ],
   "source": [
    "y_pred = SARIMAXmodel.get_forecast(len(test.index))\n",
    "y_pred_df = y_pred.conf_int(alpha = 0.05) \n",
    "y_pred_df[\"Predictions\"] = SARIMAXmodel.predict(start = y_pred_df.index[0], end = y_pred_df.index[-1])\n",
    "y_pred_df.index = test.index\n",
    "y_pred_out = y_pred_df[\"Predictions\"] \n",
    "plt.plot(y_pred_out, color='Blue', label = 'SARIMA Predictions')\n",
    "plt.plot(test['average latency'], color='Red', label = 'Actual')\n",
    "plt.legend()"
   ]
  }
 ],
 "metadata": {
  "kernelspec": {
   "display_name": "Python 3.8.1 64-bit",
   "language": "python",
   "name": "python3"
  },
  "language_info": {
   "codemirror_mode": {
    "name": "ipython",
    "version": 3
   },
   "file_extension": ".py",
   "mimetype": "text/x-python",
   "name": "python",
   "nbconvert_exporter": "python",
   "pygments_lexer": "ipython3",
   "version": "3.8.1"
  },
  "orig_nbformat": 4,
  "vscode": {
   "interpreter": {
    "hash": "03bb991457d37ae7114e465a4e1fddf1bc1040c6df8c60b0a6698575164d41d7"
   }
  }
 },
 "nbformat": 4,
 "nbformat_minor": 2
}
